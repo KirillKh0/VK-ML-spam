{
 "cells": [
  {
   "cell_type": "markdown",
   "id": "bb98fb8e-aaed-4107-95a1-e3caae548f7b",
   "metadata": {},
   "source": [
    "# Задание для стажировки VK ML-engineer "
   ]
  },
  {
   "cell_type": "markdown",
   "id": "507bf845-6b65-453f-aa3d-ea6c901101b8",
   "metadata": {},
   "source": [
    "Требуется сделать бинарный классификатор определения спам-сообщений"
   ]
  },
  {
   "cell_type": "markdown",
   "id": "f3767d74-9458-4243-b322-5f1fc33a0fac",
   "metadata": {},
   "source": [
    "## Подключение библиотек"
   ]
  },
  {
   "cell_type": "code",
   "execution_count": 1,
   "id": "164a3fdb-6645-4d47-bfec-790f77a07dc5",
   "metadata": {},
   "outputs": [],
   "source": [
    "import pandas as pd\n",
    "import matplotlib.pyplot as plt\n",
    "import seaborn as sns\n",
    "import numpy as np\n",
    "\n",
    "import re\n",
    "import nltk\n",
    "from nltk.corpus import stopwords\n",
    "from nltk.stem import PorterStemmer\n",
    "\n",
    "from sklearn.feature_extraction.text import CountVectorizer\n",
    "from sklearn.model_selection import train_test_split, GridSearchCV\n",
    "from imblearn.over_sampling import SMOTE\n",
    "\n",
    "from sklearn.metrics import f1_score\n",
    "from sklearn.feature_extraction.text import TfidfTransformer\n",
    "from sklearn.pipeline import Pipeline\n",
    "from sklearn.linear_model import LogisticRegression\n",
    "from sklearn.tree import DecisionTreeClassifier\n",
    "from catboost import CatBoostClassifier\n",
    "from sklearn.naive_bayes import MultinomialNB"
   ]
  },
  {
   "cell_type": "code",
   "execution_count": 2,
   "id": "e988c7c4-58c1-40a2-b59f-3668cc60fbfa",
   "metadata": {},
   "outputs": [
    {
     "name": "stderr",
     "output_type": "stream",
     "text": [
      "[nltk_data] Downloading package stopwords to\n",
      "[nltk_data]     C:\\Users\\hamnu_cpihx4b\\AppData\\Roaming\\nltk_data...\n",
      "[nltk_data]   Package stopwords is already up-to-date!\n"
     ]
    },
    {
     "data": {
      "text/plain": [
       "True"
      ]
     },
     "execution_count": 2,
     "metadata": {},
     "output_type": "execute_result"
    }
   ],
   "source": [
    "nltk.download('stopwords')"
   ]
  },
  {
   "cell_type": "markdown",
   "id": "c83290ed-4ba2-4ba8-aea2-d97b8ff2dd36",
   "metadata": {},
   "source": [
    "## Загрузка данных"
   ]
  },
  {
   "cell_type": "code",
   "execution_count": 3,
   "id": "f9d47354-0126-4c34-a25c-5d874b857f82",
   "metadata": {},
   "outputs": [],
   "source": [
    "try:\n",
    "    train = pd.read_csv('train_spam.csv')\n",
    "    test = pd.read_csv('test_spam.csv')\n",
    "except:\n",
    "    print('Ошибка в пути к файлам') "
   ]
  },
  {
   "cell_type": "code",
   "execution_count": 4,
   "id": "bb8acaad-9346-4187-8552-5311893b7131",
   "metadata": {
    "scrolled": true
   },
   "outputs": [
    {
     "data": {
      "text/html": [
       "<div>\n",
       "<style scoped>\n",
       "    .dataframe tbody tr th:only-of-type {\n",
       "        vertical-align: middle;\n",
       "    }\n",
       "\n",
       "    .dataframe tbody tr th {\n",
       "        vertical-align: top;\n",
       "    }\n",
       "\n",
       "    .dataframe thead th {\n",
       "        text-align: right;\n",
       "    }\n",
       "</style>\n",
       "<table border=\"1\" class=\"dataframe\">\n",
       "  <thead>\n",
       "    <tr style=\"text-align: right;\">\n",
       "      <th></th>\n",
       "      <th>text_type</th>\n",
       "      <th>text</th>\n",
       "    </tr>\n",
       "  </thead>\n",
       "  <tbody>\n",
       "    <tr>\n",
       "      <th>0</th>\n",
       "      <td>ham</td>\n",
       "      <td>make sure alex knows his birthday is over in f...</td>\n",
       "    </tr>\n",
       "    <tr>\n",
       "      <th>1</th>\n",
       "      <td>ham</td>\n",
       "      <td>a resume for john lavorato thanks vince i will...</td>\n",
       "    </tr>\n",
       "    <tr>\n",
       "      <th>2</th>\n",
       "      <td>spam</td>\n",
       "      <td>plzz visit my website moviesgodml to get all m...</td>\n",
       "    </tr>\n",
       "    <tr>\n",
       "      <th>3</th>\n",
       "      <td>spam</td>\n",
       "      <td>urgent your mobile number has been awarded wit...</td>\n",
       "    </tr>\n",
       "    <tr>\n",
       "      <th>4</th>\n",
       "      <td>ham</td>\n",
       "      <td>overview of hr associates analyst project per ...</td>\n",
       "    </tr>\n",
       "  </tbody>\n",
       "</table>\n",
       "</div>"
      ],
      "text/plain": [
       "  text_type                                               text\n",
       "0       ham  make sure alex knows his birthday is over in f...\n",
       "1       ham  a resume for john lavorato thanks vince i will...\n",
       "2      spam  plzz visit my website moviesgodml to get all m...\n",
       "3      spam  urgent your mobile number has been awarded wit...\n",
       "4       ham  overview of hr associates analyst project per ..."
      ]
     },
     "execution_count": 4,
     "metadata": {},
     "output_type": "execute_result"
    }
   ],
   "source": [
    "train.head()"
   ]
  },
  {
   "cell_type": "code",
   "execution_count": 5,
   "id": "8fa7e981-1e5c-4dec-aaba-a626a01a59fd",
   "metadata": {},
   "outputs": [
    {
     "data": {
      "text/html": [
       "<div>\n",
       "<style scoped>\n",
       "    .dataframe tbody tr th:only-of-type {\n",
       "        vertical-align: middle;\n",
       "    }\n",
       "\n",
       "    .dataframe tbody tr th {\n",
       "        vertical-align: top;\n",
       "    }\n",
       "\n",
       "    .dataframe thead th {\n",
       "        text-align: right;\n",
       "    }\n",
       "</style>\n",
       "<table border=\"1\" class=\"dataframe\">\n",
       "  <thead>\n",
       "    <tr style=\"text-align: right;\">\n",
       "      <th></th>\n",
       "      <th>text</th>\n",
       "    </tr>\n",
       "  </thead>\n",
       "  <tbody>\n",
       "    <tr>\n",
       "      <th>0</th>\n",
       "      <td>j jim whitehead ejw cse ucsc edu writes j you ...</td>\n",
       "    </tr>\n",
       "    <tr>\n",
       "      <th>1</th>\n",
       "      <td>original message from bitbitch magnesium net p...</td>\n",
       "    </tr>\n",
       "    <tr>\n",
       "      <th>2</th>\n",
       "      <td>java for managers vince durasoft who just taug...</td>\n",
       "    </tr>\n",
       "    <tr>\n",
       "      <th>3</th>\n",
       "      <td>there is a youtuber name saiman says</td>\n",
       "    </tr>\n",
       "    <tr>\n",
       "      <th>4</th>\n",
       "      <td>underpriced issue with high return on equity t...</td>\n",
       "    </tr>\n",
       "  </tbody>\n",
       "</table>\n",
       "</div>"
      ],
      "text/plain": [
       "                                                text\n",
       "0  j jim whitehead ejw cse ucsc edu writes j you ...\n",
       "1  original message from bitbitch magnesium net p...\n",
       "2  java for managers vince durasoft who just taug...\n",
       "3               there is a youtuber name saiman says\n",
       "4  underpriced issue with high return on equity t..."
      ]
     },
     "execution_count": 5,
     "metadata": {},
     "output_type": "execute_result"
    }
   ],
   "source": [
    "test.head()"
   ]
  },
  {
   "cell_type": "markdown",
   "id": "aa80c425-3742-49dd-86ec-0c5e2239c5cf",
   "metadata": {},
   "source": [
    "## Первичный анализ данных"
   ]
  },
  {
   "cell_type": "code",
   "execution_count": 6,
   "id": "4f7f8f18-251a-4729-b960-f60dd093c61e",
   "metadata": {},
   "outputs": [
    {
     "name": "stdout",
     "output_type": "stream",
     "text": [
      "<class 'pandas.core.frame.DataFrame'>\n",
      "RangeIndex: 16278 entries, 0 to 16277\n",
      "Data columns (total 2 columns):\n",
      " #   Column     Non-Null Count  Dtype \n",
      "---  ------     --------------  ----- \n",
      " 0   text_type  16278 non-null  object\n",
      " 1   text       16278 non-null  object\n",
      "dtypes: object(2)\n",
      "memory usage: 254.5+ KB\n"
     ]
    }
   ],
   "source": [
    "train.info()"
   ]
  },
  {
   "cell_type": "code",
   "execution_count": 7,
   "id": "73298407-6234-41cf-925e-a34e07604f00",
   "metadata": {},
   "outputs": [
    {
     "data": {
      "text/plain": [
       "text_type    0\n",
       "text         0\n",
       "dtype: int64"
      ]
     },
     "execution_count": 7,
     "metadata": {},
     "output_type": "execute_result"
    }
   ],
   "source": [
    "train.isnull().sum()"
   ]
  },
  {
   "cell_type": "code",
   "execution_count": 8,
   "id": "1fc0d26b-59a6-4dd9-a9e2-42fcf4a1ccbf",
   "metadata": {},
   "outputs": [
    {
     "data": {
      "text/html": [
       "<div>\n",
       "<style scoped>\n",
       "    .dataframe tbody tr th:only-of-type {\n",
       "        vertical-align: middle;\n",
       "    }\n",
       "\n",
       "    .dataframe tbody tr th {\n",
       "        vertical-align: top;\n",
       "    }\n",
       "\n",
       "    .dataframe thead th {\n",
       "        text-align: right;\n",
       "    }\n",
       "</style>\n",
       "<table border=\"1\" class=\"dataframe\">\n",
       "  <thead>\n",
       "    <tr style=\"text-align: right;\">\n",
       "      <th></th>\n",
       "      <th>text</th>\n",
       "    </tr>\n",
       "    <tr>\n",
       "      <th>text_type</th>\n",
       "      <th></th>\n",
       "    </tr>\n",
       "  </thead>\n",
       "  <tbody>\n",
       "    <tr>\n",
       "      <th>ham</th>\n",
       "      <td>11469</td>\n",
       "    </tr>\n",
       "    <tr>\n",
       "      <th>spam</th>\n",
       "      <td>4809</td>\n",
       "    </tr>\n",
       "  </tbody>\n",
       "</table>\n",
       "</div>"
      ],
      "text/plain": [
       "            text\n",
       "text_type       \n",
       "ham        11469\n",
       "spam        4809"
      ]
     },
     "execution_count": 8,
     "metadata": {},
     "output_type": "execute_result"
    }
   ],
   "source": [
    "train.groupby('text_type').count()"
   ]
  },
  {
   "cell_type": "code",
   "execution_count": 9,
   "id": "b99bbb27-23dc-4b0a-8167-aaafc9297468",
   "metadata": {},
   "outputs": [],
   "source": [
    "train['text_type'] = train['text_type'].apply(lambda x: 0 if x == 'ham'else 1)"
   ]
  },
  {
   "cell_type": "code",
   "execution_count": 10,
   "id": "0ccebb12-0e45-4a14-89bf-24a4a46a4b09",
   "metadata": {},
   "outputs": [
    {
     "data": {
      "image/png": "[encoded data removed]",
      "text/plain": [
       "<Figure size 500x300 with 1 Axes>"
      ]
     },
     "metadata": {},
     "output_type": "display_data"
    }
   ],
   "source": [
    "fig = plt.figure(figsize=(5,3))\n",
    "sns.countplot(train, x = 'text_type')\n",
    "plt.title('Количество сообщений определнного класса')\n",
    "plt.show()"
   ]
  },
  {
   "cell_type": "markdown",
   "id": "f727efa3-d739-4c65-b74b-714811bdf90f",
   "metadata": {},
   "source": [
    "В данных наблюдается дисбаланс классов, для его устранения будет использован SMOTE"
   ]
  },
  {
   "cell_type": "markdown",
   "id": "6a42710b-bc8d-43ce-8a0d-8e7e553c9d8f",
   "metadata": {},
   "source": [
    "## Обработка текста"
   ]
  },
  {
   "cell_type": "code",
   "execution_count": 11,
   "id": "be276e6c-8aae-4ec5-8ef4-55f9538f0336",
   "metadata": {},
   "outputs": [
    {
     "name": "stdout",
     "output_type": "stream",
     "text": [
      "['i', \"you've\", 'himself', 'they', 'that', 'been', 'a', 'while', 'through', 'in', 'here', 'few', 'own', 'just', 're', 'doesn', 'ma', \"shouldn't\"]\n"
     ]
    }
   ],
   "source": [
    "stop_words = stopwords.words('english')\n",
    "print(stop_words[::10])\n",
    "\n",
    "porter = PorterStemmer()"
   ]
  },
  {
   "cell_type": "code",
   "execution_count": 12,
   "id": "8d1b3700-45e8-42ce-941f-00b727c7f907",
   "metadata": {},
   "outputs": [],
   "source": [
    "def clean_text(words):\n",
    "    words = re.sub(\"[^a-zA-Z]\",\" \", words)\n",
    "    text = words.lower().split()                   \n",
    "    return \" \".join(text)\n",
    "\n",
    "def remove_stopwords(text):\n",
    "    text = [word.lower() for word in text.split() if word.lower() not in stop_words]\n",
    "    return \" \".join(text)\n",
    "\n",
    "def stemmer(stem_text):\n",
    "    stem_text = [porter.stem(word) for word in stem_text.split()]\n",
    "    return \" \".join(stem_text)"
   ]
  },
  {
   "cell_type": "code",
   "execution_count": 13,
   "id": "b0569c7d-e443-4c58-ba81-bb4e4bf8f17e",
   "metadata": {},
   "outputs": [],
   "source": [
    "train['text'] = train['text'].apply(clean_text)\n",
    "train['text'] = train['text'].apply(remove_stopwords)\n",
    "train['text'] = train['text'].apply(stemmer)"
   ]
  },
  {
   "cell_type": "code",
   "execution_count": 14,
   "id": "f9bb9131-1ecb-4f3b-a0bf-8608c3a83052",
   "metadata": {
    "scrolled": true
   },
   "outputs": [
    {
     "data": {
      "text/html": [
       "<div>\n",
       "<style scoped>\n",
       "    .dataframe tbody tr th:only-of-type {\n",
       "        vertical-align: middle;\n",
       "    }\n",
       "\n",
       "    .dataframe tbody tr th {\n",
       "        vertical-align: top;\n",
       "    }\n",
       "\n",
       "    .dataframe thead th {\n",
       "        text-align: right;\n",
       "    }\n",
       "</style>\n",
       "<table border=\"1\" class=\"dataframe\">\n",
       "  <thead>\n",
       "    <tr style=\"text-align: right;\">\n",
       "      <th></th>\n",
       "      <th>text_type</th>\n",
       "      <th>text</th>\n",
       "    </tr>\n",
       "  </thead>\n",
       "  <tbody>\n",
       "    <tr>\n",
       "      <th>0</th>\n",
       "      <td>0</td>\n",
       "      <td>make sure alex know birthday fifteen minut far...</td>\n",
       "    </tr>\n",
       "    <tr>\n",
       "      <th>1</th>\n",
       "      <td>0</td>\n",
       "      <td>resum john lavorato thank vinc get move right ...</td>\n",
       "    </tr>\n",
       "    <tr>\n",
       "      <th>2</th>\n",
       "      <td>1</td>\n",
       "      <td>plzz visit websit moviesgodml get movi free al...</td>\n",
       "    </tr>\n",
       "    <tr>\n",
       "      <th>3</th>\n",
       "      <td>1</td>\n",
       "      <td>urgent mobil number award prize guarante call ...</td>\n",
       "    </tr>\n",
       "    <tr>\n",
       "      <th>4</th>\n",
       "      <td>0</td>\n",
       "      <td>overview hr associ analyst project per david r...</td>\n",
       "    </tr>\n",
       "  </tbody>\n",
       "</table>\n",
       "</div>"
      ],
      "text/plain": [
       "   text_type                                               text\n",
       "0          0  make sure alex know birthday fifteen minut far...\n",
       "1          0  resum john lavorato thank vinc get move right ...\n",
       "2          1  plzz visit websit moviesgodml get movi free al...\n",
       "3          1  urgent mobil number award prize guarante call ...\n",
       "4          0  overview hr associ analyst project per david r..."
      ]
     },
     "execution_count": 14,
     "metadata": {},
     "output_type": "execute_result"
    }
   ],
   "source": [
    "train.head()"
   ]
  },
  {
   "cell_type": "markdown",
   "id": "db2bf381-c356-4006-b242-f6ecc09f66a2",
   "metadata": {},
   "source": [
    "## Создание модели"
   ]
  },
  {
   "cell_type": "markdown",
   "id": "a386b23b-d767-4e56-8fe4-6add28e59316",
   "metadata": {},
   "source": [
    "### Векторизация через мешок слов"
   ]
  },
  {
   "cell_type": "code",
   "execution_count": 15,
   "id": "18f8f849-7ca8-4d09-9525-d1d8bebf6579",
   "metadata": {},
   "outputs": [],
   "source": [
    "X = train['text']\n",
    "y = train['text_type']"
   ]
  },
  {
   "cell_type": "code",
   "execution_count": 16,
   "id": "a0ab8959-c815-411e-97bb-f770d41309bb",
   "metadata": {},
   "outputs": [],
   "source": [
    "vect = CountVectorizer(min_df=5, ngram_range=(1,2)).fit(X)\n",
    "X_vec = vect.transform(X)"
   ]
  },
  {
   "cell_type": "code",
   "execution_count": 17,
   "id": "d3a64369-dbfd-4236-a963-cec43707f6e4",
   "metadata": {},
   "outputs": [],
   "source": [
    "X_train, X_test, y_train, y_test = train_test_split(X_vec, y, test_size=0.3, stratify=y,random_state=1)"
   ]
  },
  {
   "cell_type": "markdown",
   "id": "00e0e847-daaa-435a-91e2-5ed6afe6702f",
   "metadata": {},
   "source": [
    "### Исбавление от дисбаланса классов"
   ]
  },
  {
   "cell_type": "code",
   "execution_count": 18,
   "id": "4d73b56d-a69d-4212-9970-5131a783edeb",
   "metadata": {},
   "outputs": [],
   "source": [
    "smote = SMOTE()"
   ]
  },
  {
   "cell_type": "code",
   "execution_count": 19,
   "id": "2598ce55-fd93-441b-9d9d-fdbc9e12eb34",
   "metadata": {},
   "outputs": [],
   "source": [
    "X_train, y_train = smote.fit_resample(X_train, y_train)"
   ]
  },
  {
   "cell_type": "markdown",
   "id": "14aec643-485f-4f17-843b-96c6686512ae",
   "metadata": {},
   "source": [
    "### Построение моделей"
   ]
  },
  {
   "cell_type": "markdown",
   "id": "cca94229-927f-4cab-aa50-176f868595e7",
   "metadata": {},
   "source": [
    "Для рассмотрения будут использованы следующие модели:\n",
    "1. Логистическая регрессия\n",
    "2. Дерево решений\n",
    "3. Градиентный бустинг\n",
    "4. Наивный байес"
   ]
  },
  {
   "cell_type": "markdown",
   "id": "b8675062-8633-4fe0-8fe7-c1dee39beb06",
   "metadata": {},
   "source": [
    "#### Логистическая регрессия"
   ]
  },
  {
   "cell_type": "code",
   "execution_count": 21,
   "id": "701c5159-e44a-4e0b-b7d7-6c6d979a3669",
   "metadata": {},
   "outputs": [],
   "source": [
    "logic_model = LogisticRegression()\n",
    "pipe_logic = Pipeline([('tfidf', TfidfTransformer()),\n",
    "                   ('model',logic_model)])\n",
    "params = {'model__penalty' : ['l1', 'l2', 'elasticnet'],\n",
    "         'model__C' : [0.1, 0.5, 1.0, 1.5],\n",
    "         'model__random_state' : [1]\n",
    "         }"
   ]
  },
  {
   "cell_type": "code",
   "execution_count": 22,
   "id": "01beaf2e-606c-4ba6-be73-0f4b05640ac6",
   "metadata": {
    "scrolled": true
   },
   "outputs": [],
   "source": [
    "logic_cv = GridSearchCV(pipe_logic, params, scoring='f1', cv=4)\n",
    "logic_cv.fit(X_train, y_train)\n",
    "\n",
    "print('Лучший скор модели: ', logic_cv.best_score_)\n",
    "print('Параметры модели: ', logic_cv.best_params_)"
   ]
  },
  {
   "cell_type": "markdown",
   "id": "42578e75-223b-4908-af0c-7e6a4e38f4c6",
   "metadata": {},
   "source": [
    "Лучший скор модели:  0.9085242522350236<br>\n",
    "Параметры модели:  {'model__C': 1.5, 'model__penalty': 'l2', 'model__random_state': 1}"
   ]
  },
  {
   "cell_type": "markdown",
   "id": "5f7fb818-71f9-4056-b3b1-4bac294300d6",
   "metadata": {},
   "source": [
    "#### Дерево решений"
   ]
  },
  {
   "cell_type": "code",
   "execution_count": 23,
   "id": "bc366966-04e8-4bb6-89e0-5ba20428506c",
   "metadata": {},
   "outputs": [],
   "source": [
    "tree_model = DecisionTreeClassifier()\n",
    "pipe_tree = Pipeline([('tfidf', TfidfTransformer()),\n",
    "                   ('model',tree_model)])\n",
    "params = {'model__criterion' : ['gini', 'entropy', 'log_loss'],\n",
    "          'model__max_depth' : range(1, 15, 2),\n",
    "          'model__random_state' : [1]\n",
    "         }\n",
    "\n",
    "tree_cv = GridSearchCV(pipe_tree, params, scoring='f1', cv=4)\n",
    "tree_cv.fit(X_train, y_train)\n",
    "\n",
    "print('Лучший скор модели: ', tree_cv.best_score_)\n",
    "print('Параметры модели: ', tree_cv.best_params_)"
   ]
  },
  {
   "cell_type": "markdown",
   "id": "015b6f59-7180-48f6-a25b-878f7e43a6f1",
   "metadata": {},
   "source": [
    "Лучший скор модели:  0.7712408945556224<br>\n",
    "Параметры модели:  {'model__criterion': 'gini', 'model__max_depth': 13, 'model__random_state': 1}"
   ]
  },
  {
   "cell_type": "markdown",
   "id": "5599c3d8-1610-4e7b-8875-d37ed3f1dfe1",
   "metadata": {},
   "source": [
    "#### Градиентный бустинг"
   ]
  },
  {
   "cell_type": "code",
   "execution_count": 24,
   "id": "c9b23f1d-913b-4473-a515-9d19aaef0582",
   "metadata": {},
   "outputs": [],
   "source": [
    "cat_model = CatBoostClassifier(silent=True)\n",
    "pipe_cat = Pipeline([('tfidf', TfidfTransformer()),\n",
    "                   ('model',cat_model)])\n",
    "params = {'model__learning_rate' : [0.1, 0.5, 1],\n",
    "          'model__depth' : range(2, 5, 2)\n",
    "         }\n",
    "\n",
    "cat_cv = GridSearchCV(pipe_cat, params, scoring='f1', cv=4)\n",
    "cat_cv.fit(X_train, y_train)\n",
    "\n",
    "print('Лучший скор модели: ', cat_cv.best_score_)\n",
    "print('Параметры модели: ', cat_cv.best_params_)"
   ]
  },
  {
   "cell_type": "markdown",
   "id": "5fe73530-6f5d-48ce-a8fa-e3e4c7cfe416",
   "metadata": {},
   "source": [
    "Лучший скор модели:  0.9021162587458407<br>\r\n",
    "Параметры модели:  {'model__depth': 4, 'model__learning_rate': 0.5}"
   ]
  },
  {
   "cell_type": "markdown",
   "id": "5a1b1ffb-cc37-4c25-a0b5-f17099ca6a70",
   "metadata": {},
   "source": [
    "#### Наивный байес"
   ]
  },
  {
   "cell_type": "code",
   "execution_count": 25,
   "id": "5b4d96b9-55e8-4fc3-b85b-d179cd2cfb8a",
   "metadata": {
    "scrolled": true
   },
   "outputs": [
    {
     "name": "stdout",
     "output_type": "stream",
     "text": [
      "Лучший скор модели:  0.803037796998812\n",
      "Параметры модели:  {'model__alpha': 0.1}\n"
     ]
    }
   ],
   "source": [
    "nb_model = MultinomialNB()\n",
    "pipe_nb = Pipeline([('tfidf', TfidfTransformer()),\n",
    "                   ('model',nb_model)])\n",
    "\n",
    "params = {'model__alpha' : [0.01, 0.05, 0.1, 0.2, 0.3, 0.5, 1.0]}\n",
    "\n",
    "nb_cv = GridSearchCV(pipe_nb, params, scoring='f1', cv=4)\n",
    "nb_cv.fit(X_train, y_train)\n",
    "\n",
    "print('Лучший скор модели: ', nb_cv.best_score_)\n",
    "print('Параметры модели: ', nb_cv.best_params_)"
   ]
  },
  {
   "cell_type": "markdown",
   "id": "52cec4a5-43a8-46ca-a586-944566dc53cf",
   "metadata": {},
   "source": [
    "Лучший скор модели:  0.7978032052407218<br>\r\n",
    "Параметры модели:  {'model__alpha': 0.1}"
   ]
  },
  {
   "cell_type": "markdown",
   "id": "96ea3263-0677-4029-98f9-e5e95eff8c27",
   "metadata": {},
   "source": [
    "## Выбор модели"
   ]
  },
  {
   "cell_type": "code",
   "execution_count": 26,
   "id": "9980cbd6-7488-4a83-9355-e9e20ef49d1e",
   "metadata": {},
   "outputs": [],
   "source": [
    "model_logic = pipe_logic.set_params(model__C=1.5, model__penalty='l2')\n",
    "model_logic.fit(X_train, y_train)\n",
    "f1_logic = f1_score(model_logic.predict(X_test), y_test)"
   ]
  },
  {
   "cell_type": "code",
   "execution_count": 27,
   "id": "a34d9058-dc25-4fa8-9dc2-5c738485ae34",
   "metadata": {},
   "outputs": [],
   "source": [
    "model_tree = pipe_tree.set_params(model__criterion='gini', model__max_depth=13)\n",
    "model_tree.fit(X_train, y_train)\n",
    "f1_tree = f1_score(model_tree.predict(X_test), y_test)"
   ]
  },
  {
   "cell_type": "code",
   "execution_count": 28,
   "id": "124996b9-a654-4062-9ca7-09bdd9e0f112",
   "metadata": {},
   "outputs": [],
   "source": [
    "model_cat = pipe_cat.set_params(model__depth=4, model__learning_rate=0.5)\n",
    "model_cat.fit(X_train, y_train)\n",
    "f1_cat = f1_score(model_cat.predict(X_test), y_test)"
   ]
  },
  {
   "cell_type": "code",
   "execution_count": 29,
   "id": "88758fe0-89e0-4a64-a3a2-fe425e824fcc",
   "metadata": {},
   "outputs": [],
   "source": [
    "model_nb = pipe_nb.set_params(model__alpha=0.1)\n",
    "model_nb.fit(X_train, y_train)\n",
    "f1_nb = f1_score(model_nb.predict(X_test), y_test)"
   ]
  },
  {
   "cell_type": "code",
   "execution_count": 30,
   "id": "f0b25830-e398-4ead-8d34-ba597d553811",
   "metadata": {},
   "outputs": [
    {
     "data": {
      "text/html": [
       "<div>\n",
       "<style scoped>\n",
       "    .dataframe tbody tr th:only-of-type {\n",
       "        vertical-align: middle;\n",
       "    }\n",
       "\n",
       "    .dataframe tbody tr th {\n",
       "        vertical-align: top;\n",
       "    }\n",
       "\n",
       "    .dataframe thead th {\n",
       "        text-align: right;\n",
       "    }\n",
       "</style>\n",
       "<table border=\"1\" class=\"dataframe\">\n",
       "  <thead>\n",
       "    <tr style=\"text-align: right;\">\n",
       "      <th></th>\n",
       "      <th>f1</th>\n",
       "    </tr>\n",
       "  </thead>\n",
       "  <tbody>\n",
       "    <tr>\n",
       "      <th>Наивный байес</th>\n",
       "      <td>0.828120</td>\n",
       "    </tr>\n",
       "    <tr>\n",
       "      <th>Градиентный бустинг</th>\n",
       "      <td>0.815725</td>\n",
       "    </tr>\n",
       "    <tr>\n",
       "      <th>Логистическая регрессия</th>\n",
       "      <td>0.814143</td>\n",
       "    </tr>\n",
       "    <tr>\n",
       "      <th>Дерево решений</th>\n",
       "      <td>0.585325</td>\n",
       "    </tr>\n",
       "  </tbody>\n",
       "</table>\n",
       "</div>"
      ],
      "text/plain": [
       "                               f1\n",
       "Наивный байес            0.828120\n",
       "Градиентный бустинг      0.815725\n",
       "Логистическая регрессия  0.814143\n",
       "Дерево решений           0.585325"
      ]
     },
     "execution_count": 30,
     "metadata": {},
     "output_type": "execute_result"
    }
   ],
   "source": [
    "result_tab = pd.DataFrame(index=['Логистическая регрессия', 'Дерево решений', 'Градиентный бустинг', 'Наивный байес'], data=[f1_logic, f1_tree, f1_cat, f1_nb], columns=['f1'])\n",
    "result_tab.sort_values(by='f1', ascending=False)"
   ]
  },
  {
   "cell_type": "markdown",
   "id": "649784ba-53d8-4cc2-bd7d-a5c2fe77854b",
   "metadata": {},
   "source": [
    "Наилучший результат на тестовой выборке показал наивный байес с f1 метрикой 0.82963 с гиперпараметрами alpha=0.1"
   ]
  },
  {
   "cell_type": "markdown",
   "id": "da73f4bc-08f7-4371-adaf-b1b8ca40114d",
   "metadata": {},
   "source": [
    "## Результат"
   ]
  },
  {
   "cell_type": "code",
   "execution_count": 31,
   "id": "98ac5bb9-9c42-481b-88ca-dd5e244045b4",
   "metadata": {},
   "outputs": [],
   "source": [
    "test['text'] = test['text'].apply(clean_text)\n",
    "test['text'] = test['text'].apply(remove_stopwords)\n",
    "test['text'] = test['text'].apply(stemmer)"
   ]
  },
  {
   "cell_type": "code",
   "execution_count": 34,
   "id": "949a3ba7-41c7-4c03-812f-f5f848476fa9",
   "metadata": {},
   "outputs": [],
   "source": [
    "X_test = vect.transform(test['text'])"
   ]
  },
  {
   "cell_type": "code",
   "execution_count": 33,
   "id": "558d01c3-8b1b-4516-aa07-3de47b56b5ec",
   "metadata": {},
   "outputs": [],
   "source": [
    "smote = SMOTE()\n",
    "X, y = smote.fit_resample(X_vec, y)"
   ]
  },
  {
   "cell_type": "code",
   "execution_count": 35,
   "id": "ed7fe6d4-461a-4b0a-bce7-f7abb447d117",
   "metadata": {},
   "outputs": [
    {
     "data": {
      "text/html": [
       "<style>#sk-container-id-1 {color: black;background-color: white;}#sk-container-id-1 pre{padding: 0;}#sk-container-id-1 div.sk-toggleable {background-color: white;}#sk-container-id-1 label.sk-toggleable__label {cursor: pointer;display: block;width: 100%;margin-bottom: 0;padding: 0.3em;box-sizing: border-box;text-align: center;}#sk-container-id-1 label.sk-toggleable__label-arrow:before {content: \"▸\";float: left;margin-right: 0.25em;color: #696969;}#sk-container-id-1 label.sk-toggleable__label-arrow:hover:before {color: black;}#sk-container-id-1 div.sk-estimator:hover label.sk-toggleable__label-arrow:before {color: black;}#sk-container-id-1 div.sk-toggleable__content {max-height: 0;max-width: 0;overflow: hidden;text-align: left;background-color: #f0f8ff;}#sk-container-id-1 div.sk-toggleable__content pre {margin: 0.2em;color: black;border-radius: 0.25em;background-color: #f0f8ff;}#sk-container-id-1 input.sk-toggleable__control:checked~div.sk-toggleable__content {max-height: 200px;max-width: 100%;overflow: auto;}#sk-container-id-1 input.sk-toggleable__control:checked~label.sk-toggleable__label-arrow:before {content: \"▾\";}#sk-container-id-1 div.sk-estimator input.sk-toggleable__control:checked~label.sk-toggleable__label {background-color: #d4ebff;}#sk-container-id-1 div.sk-label input.sk-toggleable__control:checked~label.sk-toggleable__label {background-color: #d4ebff;}#sk-container-id-1 input.sk-hidden--visually {border: 0;clip: rect(1px 1px 1px 1px);clip: rect(1px, 1px, 1px, 1px);height: 1px;margin: -1px;overflow: hidden;padding: 0;position: absolute;width: 1px;}#sk-container-id-1 div.sk-estimator {font-family: monospace;background-color: #f0f8ff;border: 1px dotted black;border-radius: 0.25em;box-sizing: border-box;margin-bottom: 0.5em;}#sk-container-id-1 div.sk-estimator:hover {background-color: #d4ebff;}#sk-container-id-1 div.sk-parallel-item::after {content: \"\";width: 100%;border-bottom: 1px solid gray;flex-grow: 1;}#sk-container-id-1 div.sk-label:hover label.sk-toggleable__label {background-color: #d4ebff;}#sk-container-id-1 div.sk-serial::before {content: \"\";position: absolute;border-left: 1px solid gray;box-sizing: border-box;top: 0;bottom: 0;left: 50%;z-index: 0;}#sk-container-id-1 div.sk-serial {display: flex;flex-direction: column;align-items: center;background-color: white;padding-right: 0.2em;padding-left: 0.2em;position: relative;}#sk-container-id-1 div.sk-item {position: relative;z-index: 1;}#sk-container-id-1 div.sk-parallel {display: flex;align-items: stretch;justify-content: center;background-color: white;position: relative;}#sk-container-id-1 div.sk-item::before, #sk-container-id-1 div.sk-parallel-item::before {content: \"\";position: absolute;border-left: 1px solid gray;box-sizing: border-box;top: 0;bottom: 0;left: 50%;z-index: -1;}#sk-container-id-1 div.sk-parallel-item {display: flex;flex-direction: column;z-index: 1;position: relative;background-color: white;}#sk-container-id-1 div.sk-parallel-item:first-child::after {align-self: flex-end;width: 50%;}#sk-container-id-1 div.sk-parallel-item:last-child::after {align-self: flex-start;width: 50%;}#sk-container-id-1 div.sk-parallel-item:only-child::after {width: 0;}#sk-container-id-1 div.sk-dashed-wrapped {border: 1px dashed gray;margin: 0 0.4em 0.5em 0.4em;box-sizing: border-box;padding-bottom: 0.4em;background-color: white;}#sk-container-id-1 div.sk-label label {font-family: monospace;font-weight: bold;display: inline-block;line-height: 1.2em;}#sk-container-id-1 div.sk-label-container {text-align: center;}#sk-container-id-1 div.sk-container {/* jupyter's `normalize.less` sets `[hidden] { display: none; }` but bootstrap.min.css set `[hidden] { display: none !important; }` so we also need the `!important` here to be able to override the default hidden behavior on the sphinx rendered scikit-learn.org. See: https://github.com/scikit-learn/scikit-learn/issues/21755 */display: inline-block !important;position: relative;}#sk-container-id-1 div.sk-text-repr-fallback {display: none;}</style><div id=\"sk-container-id-1\" class=\"sk-top-container\"><div class=\"sk-text-repr-fallback\"><pre>Pipeline(steps=[(&#x27;tfidf&#x27;, TfidfTransformer()),\n",
       "                (&#x27;model&#x27;, MultinomialNB(alpha=0.1))])</pre><b>In a Jupyter environment, please rerun this cell to show the HTML representation or trust the notebook. <br />On GitHub, the HTML representation is unable to render, please try loading this page with nbviewer.org.</b></div><div class=\"sk-container\" hidden><div class=\"sk-item sk-dashed-wrapped\"><div class=\"sk-label-container\"><div class=\"sk-label sk-toggleable\"><input class=\"sk-toggleable__control sk-hidden--visually\" id=\"sk-estimator-id-1\" type=\"checkbox\" ><label for=\"sk-estimator-id-1\" class=\"sk-toggleable__label sk-toggleable__label-arrow\">Pipeline</label><div class=\"sk-toggleable__content\"><pre>Pipeline(steps=[(&#x27;tfidf&#x27;, TfidfTransformer()),\n",
       "                (&#x27;model&#x27;, MultinomialNB(alpha=0.1))])</pre></div></div></div><div class=\"sk-serial\"><div class=\"sk-item\"><div class=\"sk-estimator sk-toggleable\"><input class=\"sk-toggleable__control sk-hidden--visually\" id=\"sk-estimator-id-2\" type=\"checkbox\" ><label for=\"sk-estimator-id-2\" class=\"sk-toggleable__label sk-toggleable__label-arrow\">TfidfTransformer</label><div class=\"sk-toggleable__content\"><pre>TfidfTransformer()</pre></div></div></div><div class=\"sk-item\"><div class=\"sk-estimator sk-toggleable\"><input class=\"sk-toggleable__control sk-hidden--visually\" id=\"sk-estimator-id-3\" type=\"checkbox\" ><label for=\"sk-estimator-id-3\" class=\"sk-toggleable__label sk-toggleable__label-arrow\">MultinomialNB</label><div class=\"sk-toggleable__content\"><pre>MultinomialNB(alpha=0.1)</pre></div></div></div></div></div></div></div>"
      ],
      "text/plain": [
       "Pipeline(steps=[('tfidf', TfidfTransformer()),\n",
       "                ('model', MultinomialNB(alpha=0.1))])"
      ]
     },
     "execution_count": 35,
     "metadata": {},
     "output_type": "execute_result"
    }
   ],
   "source": [
    "res_model = pipe_nb.set_params(model__alpha=0.1)\n",
    "res_model.fit(X, y)"
   ]
  },
  {
   "cell_type": "code",
   "execution_count": 36,
   "id": "1231bb1f-f9b9-4a3e-b1b6-3938fe813eac",
   "metadata": {},
   "outputs": [],
   "source": [
    "y_test = res_model.predict(X_test)"
   ]
  },
  {
   "cell_type": "code",
   "execution_count": 45,
   "id": "aaa797d5-5fa8-48ee-8458-0dd6a8bce0e7",
   "metadata": {},
   "outputs": [],
   "source": [
    "np.savetxt('predict.csv', y_test, fmt=\"%d\", delimiter=',')"
   ]
  },
  {
   "cell_type": "code",
   "execution_count": 46,
   "id": "6b852583-0d8d-492a-8c66-d579d146db25",
   "metadata": {},
   "outputs": [],
   "source": [
    "test['score'] = y_test"
   ]
  },
  {
   "cell_type": "code",
   "execution_count": 51,
   "id": "0cc75b50-af1c-4156-9172-1e7a06e5b834",
   "metadata": {},
   "outputs": [],
   "source": [
    "test.to_csv('test_predict.csv')"
   ]
  }
 ],
 "metadata": {
  "kernelspec": {
   "display_name": "Python 3 (ipykernel)",
   "language": "python",
   "name": "python3"
  },
  "language_info": {
   "codemirror_mode": {
    "name": "ipython",
    "version": 3
   },
   "file_extension": ".py",
   "mimetype": "text/x-python",
   "name": "python",
   "nbconvert_exporter": "python",
   "pygments_lexer": "ipython3",
   "version": "3.11.7"
  }
 },
 "nbformat": 4,
 "nbformat_minor": 5
}
